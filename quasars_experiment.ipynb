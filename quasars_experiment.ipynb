{
 "cells": [
  {
   "cell_type": "code",
   "execution_count": 1,
   "metadata": {
    "collapsed": false,
    "deletable": true,
    "editable": true
   },
   "outputs": [],
   "source": [
    "%matplotlib inline"
   ]
  },
  {
   "cell_type": "code",
   "execution_count": 2,
   "metadata": {
    "collapsed": false,
    "deletable": true,
    "editable": true
   },
   "outputs": [
    {
     "name": "stderr",
     "output_type": "stream",
     "text": [
      "Using TensorFlow backend.\n"
     ]
    }
   ],
   "source": [
    "from matplotlib import pyplot as plt\n",
    "\n",
    "import numpy as np\n",
    "import pandas as pd\n",
    "\n",
    "from sklearn.metrics import classification_report, accuracy_score\n",
    "from sklearn.model_selection import train_test_split\n",
    "from sklearn.preprocessing import StandardScaler\n",
    "\n",
    "from keras.models import Sequential\n",
    "from keras.layers import Dense, Activation, Dropout\n",
    "\n",
    "from astroML import datasets\n",
    "\n",
    "from pylab import rcParams\n",
    "rcParams['figure.figsize'] = 10, 10"
   ]
  },
  {
   "cell_type": "code",
   "execution_count": 3,
   "metadata": {
    "collapsed": true,
    "deletable": true,
    "editable": true
   },
   "outputs": [],
   "source": [
    "bands = list('ugriz')"
   ]
  },
  {
   "cell_type": "code",
   "execution_count": 4,
   "metadata": {
    "collapsed": false,
    "deletable": true,
    "editable": true
   },
   "outputs": [],
   "source": [
    "def get_stars_data(scale=True):\n",
    "    raw_quasars = datasets.fetch_dr7_quasar()\n",
    "    raw_standards = datasets.fetch_sdss_S82standards()\n",
    "\n",
    "    standards = pd.DataFrame({band: raw_standards['mmu_' + band] for band in bands})\n",
    "    standards['ra'] = raw_standards['RA']\n",
    "    standards['dec'] = raw_standards['DEC']\n",
    "    standards['is_quasar'] = np.zeros(len(standards))\n",
    "\n",
    "    quasars = pd.DataFrame({band: raw_quasars['mag_' + band] for band in bands})\n",
    "    quasars['ra'] = raw_quasars['RA']\n",
    "    quasars['dec'] = raw_quasars['dec']\n",
    "    quasars['is_quasar'] = np.ones(len(quasars))\n",
    "\n",
    "    stars = pd.concat([standards, quasars])\n",
    "    \n",
    "    # outliers\n",
    "    stars = stars[(stars.g - stars.r) > -15]\n",
    "    \n",
    "    return stars"
   ]
  },
  {
   "cell_type": "code",
   "execution_count": 5,
   "metadata": {
    "collapsed": false,
    "deletable": true,
    "editable": true
   },
   "outputs": [
    {
     "data": {
      "text/plain": [
       "(1112630, 8)"
      ]
     },
     "execution_count": 5,
     "metadata": {},
     "output_type": "execute_result"
    }
   ],
   "source": [
    "stars = get_stars_data()\n",
    "stars.shape"
   ]
  },
  {
   "cell_type": "code",
   "execution_count": 6,
   "metadata": {
    "collapsed": false,
    "deletable": true,
    "editable": true
   },
   "outputs": [
    {
     "data": {
      "text/html": [
       "<div>\n",
       "<table border=\"1\" class=\"dataframe\">\n",
       "  <thead>\n",
       "    <tr style=\"text-align: right;\">\n",
       "      <th></th>\n",
       "      <th>g</th>\n",
       "      <th>i</th>\n",
       "      <th>r</th>\n",
       "      <th>u</th>\n",
       "      <th>z</th>\n",
       "      <th>ra</th>\n",
       "      <th>dec</th>\n",
       "      <th>is_quasar</th>\n",
       "    </tr>\n",
       "  </thead>\n",
       "  <tbody>\n",
       "    <tr>\n",
       "      <th>311796</th>\n",
       "      <td>18.955000</td>\n",
       "      <td>16.954000</td>\n",
       "      <td>17.573999</td>\n",
       "      <td>21.615999</td>\n",
       "      <td>16.617001</td>\n",
       "      <td>321.226654</td>\n",
       "      <td>0.932708</td>\n",
       "      <td>0.0</td>\n",
       "    </tr>\n",
       "    <tr>\n",
       "      <th>401881</th>\n",
       "      <td>19.070000</td>\n",
       "      <td>18.070000</td>\n",
       "      <td>18.354000</td>\n",
       "      <td>20.740999</td>\n",
       "      <td>17.908001</td>\n",
       "      <td>327.291504</td>\n",
       "      <td>-0.434132</td>\n",
       "      <td>0.0</td>\n",
       "    </tr>\n",
       "    <tr>\n",
       "      <th>192139</th>\n",
       "      <td>22.150999</td>\n",
       "      <td>18.761999</td>\n",
       "      <td>20.479000</td>\n",
       "      <td>0.066000</td>\n",
       "      <td>17.863001</td>\n",
       "      <td>315.022400</td>\n",
       "      <td>-0.885458</td>\n",
       "      <td>0.0</td>\n",
       "    </tr>\n",
       "    <tr>\n",
       "      <th>63558</th>\n",
       "      <td>20.174999</td>\n",
       "      <td>19.915001</td>\n",
       "      <td>19.913000</td>\n",
       "      <td>20.250000</td>\n",
       "      <td>19.850000</td>\n",
       "      <td>194.267274</td>\n",
       "      <td>61.573606</td>\n",
       "      <td>1.0</td>\n",
       "    </tr>\n",
       "    <tr>\n",
       "      <th>865072</th>\n",
       "      <td>21.600000</td>\n",
       "      <td>18.863001</td>\n",
       "      <td>20.153999</td>\n",
       "      <td>-0.323000</td>\n",
       "      <td>18.194000</td>\n",
       "      <td>36.925507</td>\n",
       "      <td>0.107586</td>\n",
       "      <td>0.0</td>\n",
       "    </tr>\n",
       "    <tr>\n",
       "      <th>880637</th>\n",
       "      <td>16.695999</td>\n",
       "      <td>15.361000</td>\n",
       "      <td>16.211000</td>\n",
       "      <td>17.040001</td>\n",
       "      <td>14.822000</td>\n",
       "      <td>38.813091</td>\n",
       "      <td>-0.126969</td>\n",
       "      <td>0.0</td>\n",
       "    </tr>\n",
       "    <tr>\n",
       "      <th>854748</th>\n",
       "      <td>18.209999</td>\n",
       "      <td>15.617000</td>\n",
       "      <td>16.898001</td>\n",
       "      <td>20.572001</td>\n",
       "      <td>14.946000</td>\n",
       "      <td>34.702900</td>\n",
       "      <td>0.897293</td>\n",
       "      <td>0.0</td>\n",
       "    </tr>\n",
       "    <tr>\n",
       "      <th>175103</th>\n",
       "      <td>21.039000</td>\n",
       "      <td>20.284000</td>\n",
       "      <td>20.506001</td>\n",
       "      <td>21.980000</td>\n",
       "      <td>20.215000</td>\n",
       "      <td>314.276062</td>\n",
       "      <td>0.647581</td>\n",
       "      <td>0.0</td>\n",
       "    </tr>\n",
       "    <tr>\n",
       "      <th>243763</th>\n",
       "      <td>15.633000</td>\n",
       "      <td>14.936000</td>\n",
       "      <td>15.117000</td>\n",
       "      <td>17.007999</td>\n",
       "      <td>14.884000</td>\n",
       "      <td>317.284485</td>\n",
       "      <td>-0.437247</td>\n",
       "      <td>0.0</td>\n",
       "    </tr>\n",
       "    <tr>\n",
       "      <th>5087</th>\n",
       "      <td>19.395000</td>\n",
       "      <td>18.966000</td>\n",
       "      <td>18.952999</td>\n",
       "      <td>19.482000</td>\n",
       "      <td>19.025999</td>\n",
       "      <td>30.206130</td>\n",
       "      <td>13.474692</td>\n",
       "      <td>1.0</td>\n",
       "    </tr>\n",
       "  </tbody>\n",
       "</table>\n",
       "</div>"
      ],
      "text/plain": [
       "                g          i          r          u          z          ra  \\\n",
       "311796  18.955000  16.954000  17.573999  21.615999  16.617001  321.226654   \n",
       "401881  19.070000  18.070000  18.354000  20.740999  17.908001  327.291504   \n",
       "192139  22.150999  18.761999  20.479000   0.066000  17.863001  315.022400   \n",
       "63558   20.174999  19.915001  19.913000  20.250000  19.850000  194.267274   \n",
       "865072  21.600000  18.863001  20.153999  -0.323000  18.194000   36.925507   \n",
       "880637  16.695999  15.361000  16.211000  17.040001  14.822000   38.813091   \n",
       "854748  18.209999  15.617000  16.898001  20.572001  14.946000   34.702900   \n",
       "175103  21.039000  20.284000  20.506001  21.980000  20.215000  314.276062   \n",
       "243763  15.633000  14.936000  15.117000  17.007999  14.884000  317.284485   \n",
       "5087    19.395000  18.966000  18.952999  19.482000  19.025999   30.206130   \n",
       "\n",
       "              dec  is_quasar  \n",
       "311796   0.932708        0.0  \n",
       "401881  -0.434132        0.0  \n",
       "192139  -0.885458        0.0  \n",
       "63558   61.573606        1.0  \n",
       "865072   0.107586        0.0  \n",
       "880637  -0.126969        0.0  \n",
       "854748   0.897293        0.0  \n",
       "175103   0.647581        0.0  \n",
       "243763  -0.437247        0.0  \n",
       "5087    13.474692        1.0  "
      ]
     },
     "execution_count": 6,
     "metadata": {},
     "output_type": "execute_result"
    }
   ],
   "source": [
    "stars.sample(10)"
   ]
  },
  {
   "cell_type": "code",
   "execution_count": 7,
   "metadata": {
    "collapsed": false,
    "deletable": true,
    "editable": true
   },
   "outputs": [
    {
     "data": {
      "text/plain": [
       "<matplotlib.axes._subplots.AxesSubplot at 0x7ff4cc92ea58>"
      ]
     },
     "execution_count": 7,
     "metadata": {},
     "output_type": "execute_result"
    },
    {
     "data": {
      "image/png": "[encoded data removed]",
      "text/plain": [
       "<matplotlib.figure.Figure at 0x7ff5034940f0>"
      ]
     },
     "metadata": {},
     "output_type": "display_data"
    }
   ],
   "source": [
    "stars.is_quasar.plot.hist()"
   ]
  },
  {
   "cell_type": "code",
   "execution_count": 8,
   "metadata": {
    "collapsed": false,
    "deletable": true,
    "editable": true
   },
   "outputs": [
    {
     "data": {
      "image/png": "[encoded data removed]",
      "text/plain": [
       "<matplotlib.figure.Figure at 0x7ff4c6c576a0>"
      ]
     },
     "metadata": {},
     "output_type": "display_data"
    }
   ],
   "source": [
    "quasars = stars[stars.is_quasar == 1]\n",
    "others = stars[stars.is_quasar == 0]\n",
    "\n",
    "plt.scatter(x=others.u, y=others.i, c='#e23167', s=1)\n",
    "plt.scatter(x=quasars.u, y=quasars.i, c='#547ead', s=1)\n",
    "plt.show()\n",
    "\n",
    "#plt.scatter(x=quasars.ra, y=quasars.dec, c='#547ead', s=1)\n",
    "#plt.scatter(x=others.ra, y=others.dec, c='#e23167', s=1)\n",
    "#plt.show()\n",
    "\n",
    "del quasars\n",
    "del others"
   ]
  },
  {
   "cell_type": "code",
   "execution_count": 9,
   "metadata": {
    "collapsed": false,
    "deletable": true,
    "editable": true
   },
   "outputs": [],
   "source": [
    "input_columns = bands\n",
    "\n",
    "x = stars[input_columns].values\n",
    "y = stars.is_quasar.values\n",
    "\n",
    "scaler = StandardScaler()\n",
    "x = scaler.fit_transform(x)\n",
    "\n",
    "x_train, x_test, y_train, y_test = train_test_split(x, y, test_size=0.2, stratify=y)"
   ]
  },
  {
   "cell_type": "code",
   "execution_count": 10,
   "metadata": {
    "collapsed": false,
    "deletable": true,
    "editable": true
   },
   "outputs": [],
   "source": [
    "m = Sequential([\n",
    "    Dense(250, input_shape=(len(input_columns), )),\n",
    "    Activation('tanh'),\n",
    "    \n",
    "    Dropout(0.1),\n",
    "    \n",
    "    Dense(250),\n",
    "    Activation('tanh'),\n",
    "    \n",
    "    Dropout(0.1),\n",
    "    \n",
    "    Dense(1),\n",
    "    Activation('sigmoid'),\n",
    "])\n",
    "\n",
    "m.compile(\n",
    "    loss='binary_crossentropy',\n",
    "    optimizer='adam',\n",
    "    metrics=['accuracy', ],\n",
    ")"
   ]
  },
  {
   "cell_type": "code",
   "execution_count": 11,
   "metadata": {
    "collapsed": false,
    "deletable": true,
    "editable": true,
    "scrolled": true
   },
   "outputs": [
    {
     "name": "stdout",
     "output_type": "stream",
     "text": [
      "Epoch 1/5\n",
      "11s - loss: 0.1354 - acc: 0.9545\n",
      "Epoch 2/5\n",
      "3s - loss: 0.0865 - acc: 0.9712\n",
      "Epoch 3/5\n",
      "3s - loss: 0.0539 - acc: 0.9835\n",
      "Epoch 4/5\n",
      "3s - loss: 0.0316 - acc: 0.9908\n",
      "Epoch 5/5\n",
      "3s - loss: 0.0225 - acc: 0.9935\n"
     ]
    },
    {
     "data": {
      "text/plain": [
       "<keras.callbacks.History at 0x7ff4c1994278>"
      ]
     },
     "execution_count": 11,
     "metadata": {},
     "output_type": "execute_result"
    }
   ],
   "source": [
    "m.fit(\n",
    "    x_train,\n",
    "    y_train,\n",
    "    batch_size=1024,\n",
    "    epochs=5,\n",
    "    verbose=2,\n",
    ")"
   ]
  },
  {
   "cell_type": "code",
   "execution_count": 12,
   "metadata": {
    "collapsed": false,
    "deletable": true,
    "editable": true
   },
   "outputs": [
    {
     "name": "stdout",
     "output_type": "stream",
     "text": [
      "######################### train #########################\n",
      "\n",
      "Accuracy: 0.995071362448\n",
      "\n",
      "             precision    recall  f1-score   support\n",
      "\n",
      "        0.0       1.00      1.00      1.00    805479\n",
      "        1.0       0.99      0.96      0.97     84625\n",
      "\n",
      "avg / total       1.00      1.00      1.00    890104\n",
      "\n",
      "\n",
      "######################### test #########################\n",
      "\n",
      "Accuracy: 0.995052263556\n",
      "\n",
      "             precision    recall  f1-score   support\n",
      "\n",
      "        0.0       1.00      1.00      1.00    201370\n",
      "        1.0       0.99      0.96      0.97     21156\n",
      "\n",
      "avg / total       1.00      1.00      1.00    222526\n",
      "\n",
      "\n"
     ]
    }
   ],
   "source": [
    "sets = (\n",
    "    ('train', x_train, y_train),\n",
    "    ('test', x_test, y_test),\n",
    ")\n",
    "\n",
    "for set_name, x_set, y_set in sets:\n",
    "    y_predicted = np.rint(m.predict(x_set, batch_size=1024))\n",
    "\n",
    "    print('#' * 25, set_name, '#' * 25)\n",
    "    print()\n",
    "    print('Accuracy:', accuracy_score(y_set, y_predicted))\n",
    "    print()\n",
    "    print(classification_report(y_set, y_predicted))\n",
    "    print()"
   ]
  },
  {
   "cell_type": "code",
   "execution_count": null,
   "metadata": {
    "collapsed": true,
    "deletable": true,
    "editable": true
   },
   "outputs": [],
   "source": []
  }
 ],
 "metadata": {
  "kernelspec": {
   "display_name": "Python 3",
   "language": "python",
   "name": "python3"
  },
  "language_info": {
   "codemirror_mode": {
    "name": "ipython",
    "version": 3
   },
   "file_extension": ".py",
   "mimetype": "text/x-python",
   "name": "python",
   "nbconvert_exporter": "python",
   "pygments_lexer": "ipython3",
   "version": "3.5.2+"
  }
 },
 "nbformat": 4,
 "nbformat_minor": 2
}
